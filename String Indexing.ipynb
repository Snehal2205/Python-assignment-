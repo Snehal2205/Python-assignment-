{
 "cells": [
  {
   "cell_type": "code",
   "execution_count": 1,
   "id": "00947b75",
   "metadata": {},
   "outputs": [
    {
     "name": "stdout",
     "output_type": "stream",
     "text": [
      "Sunday is a holiday\n"
     ]
    }
   ],
   "source": [
    "str1 = \"Sunday is a holiday\"\n",
    "print(str1)"
   ]
  },
  {
   "cell_type": "code",
   "execution_count": 9,
   "id": "cfd8b5b9",
   "metadata": {},
   "outputs": [
    {
     "name": "stdout",
     "output_type": "stream",
     "text": [
      "Sunday is a holiday\n",
      "19\n",
      "S\n",
      "unday i\n",
      "nday is a holida\n",
      "a\n",
      "Sunday is a h\n",
      "y is a\n"
     ]
    }
   ],
   "source": [
    "pisitive Indexing:\n",
    "\n",
    "print(str1)\n",
    "print(len(str1))\n",
    "print(str1[0])\n",
    "print(str1[1:8])\n",
    "print(str1[2:18])\n",
    "print(str1[17])\n",
    "print(str1[:13])\n",
    "print(str1[5:11])"
   ]
  },
  {
   "cell_type": "code",
   "execution_count": 7,
   "id": "02c519ce",
   "metadata": {},
   "outputs": [
    {
     "name": "stdout",
     "output_type": "stream",
     "text": [
      "Python is a high level language\n",
      "31\n"
     ]
    }
   ],
   "source": [
    "str2 = \"Python is a high level language\"\n",
    "print(str2)\n",
    "print(len(str2))"
   ]
  },
  {
   "cell_type": "code",
   "execution_count": 22,
   "id": "e5dbbdc2",
   "metadata": {},
   "outputs": [
    {
     "name": "stdout",
     "output_type": "stream",
     "text": [
      "Python is a high level language\n",
      "e\n",
      "angu\n",
      " high level languag\n",
      "ython is \n"
     ]
    }
   ],
   "source": [
    "Negative Indexing:\n",
    "\n",
    "print(str2)\n",
    "print(str2[-1])\n",
    "print(str2[-7:-3])\n",
    "print(str2[-20:-1])\n",
    "print(str2[-30:-21])"
   ]
  },
  {
   "cell_type": "code",
   "execution_count": 20,
   "id": "58c38513",
   "metadata": {},
   "outputs": [
    {
     "name": "stdout",
     "output_type": "stream",
     "text": [
      "Ram is taller than Shyam\n",
      "24\n",
      "an Shya\n",
      "is taller than \n",
      "Ram is taller than S\n",
      "ller than Shy\n",
      "Ram is taller than Shyam\n"
     ]
    }
   ],
   "source": [
    "str3 = \"Ram is taller than Shyam\"\n",
    "print(str3)\n",
    "print(len(str3))\n",
    "print(str3[-8:-1])\n",
    "print(str3[-20:-5])\n",
    "print(str3[-24:-4])\n",
    "print(str3[-15:-2])\n",
    "print(str3[-24:])"
   ]
  },
  {
   "cell_type": "code",
   "execution_count": null,
   "id": "1be18801",
   "metadata": {},
   "outputs": [],
   "source": []
  }
 ],
 "metadata": {
  "kernelspec": {
   "display_name": "Python 3 (ipykernel)",
   "language": "python",
   "name": "python3"
  },
  "language_info": {
   "codemirror_mode": {
    "name": "ipython",
    "version": 3
   },
   "file_extension": ".py",
   "mimetype": "text/x-python",
   "name": "python",
   "nbconvert_exporter": "python",
   "pygments_lexer": "ipython3",
   "version": "3.9.7"
  }
 },
 "nbformat": 4,
 "nbformat_minor": 5
}
