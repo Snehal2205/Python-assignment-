{
 "cells": [
  {
   "cell_type": "code",
   "execution_count": 1,
   "id": "f77f6e4b",
   "metadata": {},
   "outputs": [
    {
     "name": "stdout",
     "output_type": "stream",
     "text": [
      "float to int:\n",
      "100.2\n",
      "<class 'float'>\n",
      "100\n",
      "<class 'int'>\n"
     ]
    }
   ],
   "source": [
    "var = 100.20\n",
    "str1 = \"200.30\"\n",
    "str2 = \"500\"\n",
    "str3 = \"python\"\n",
    "\n",
    "print(\"float to int:\")\n",
    "print(var)\n",
    "print(type(var))\n",
    "var1 = int(var)\n",
    "print(var1)\n",
    "print(type(var1))\n"
   ]
  },
  {
   "cell_type": "code",
   "execution_count": 2,
   "id": "9d11bb7f",
   "metadata": {},
   "outputs": [
    {
     "name": "stdout",
     "output_type": "stream",
     "text": [
      "String to int:\n",
      "500\n",
      "<class 'str'>\n",
      "500\n",
      "<class 'int'>\n"
     ]
    }
   ],
   "source": [
    "var = 100.20\n",
    "str1 = \"200.30\"\n",
    "str2 = \"500\"\n",
    "str3 = \"python\"\n",
    "\n",
    "print(\"String to int:\")\n",
    "print(str2)\n",
    "print(type(str2))\n",
    "var3 = int(str2)\n",
    "print(var3)\n",
    "print(type(var3))"
   ]
  },
  {
   "cell_type": "code",
   "execution_count": 6,
   "id": "3f490b5e",
   "metadata": {},
   "outputs": [
    {
     "name": "stdout",
     "output_type": "stream",
     "text": [
      "String to int:\n",
      "200.30\n",
      "<class 'str'>\n",
      "200\n",
      "<class 'int'>\n"
     ]
    }
   ],
   "source": [
    "var = 100.20\n",
    "str1 = \"200.30\"\n",
    "str2 = \"500\"\n",
    "str3 = \"python\"\n",
    "\n",
    "print(\"String to int:\")\n",
    "print(str1)\n",
    "print(type(str1))\n",
    "var2 = float(str1)\n",
    "var3 = int(var2)\n",
    "print(var3)\n",
    "print(type(var3))"
   ]
  },
  {
   "cell_type": "code",
   "execution_count": 7,
   "id": "f1c88b21",
   "metadata": {},
   "outputs": [
    {
     "name": "stdout",
     "output_type": "stream",
     "text": [
      "string to complex:\n",
      "(3+4j)\n",
      "<class 'complex'>\n"
     ]
    }
   ],
   "source": [
    "print(\"string to complex:\")\n",
    "cm = \"3+4j\"\n",
    "comp = complex(cm)\n",
    "print(comp)\n",
    "print(type(comp))\n"
   ]
  },
  {
   "cell_type": "code",
   "execution_count": 10,
   "id": "d2e151ea",
   "metadata": {},
   "outputs": [
    {
     "name": "stdout",
     "output_type": "stream",
     "text": [
      "String to int:\n",
      "python\n",
      "We can't convert str3 to int\n"
     ]
    }
   ],
   "source": [
    "var = 100.20\n",
    "str1 = \"200.30\"\n",
    "str2 = \"500\"\n",
    "str3 = \"python\"\n",
    "\n",
    "print(\"String to int:\")\n",
    "print(str3)\n",
    "print(\"We can't convert str3 to int\")"
   ]
  },
  {
   "cell_type": "code",
   "execution_count": null,
   "id": "5e3f4416",
   "metadata": {},
   "outputs": [],
   "source": []
  }
 ],
 "metadata": {
  "kernelspec": {
   "display_name": "Python 3 (ipykernel)",
   "language": "python",
   "name": "python3"
  },
  "language_info": {
   "codemirror_mode": {
    "name": "ipython",
    "version": 3
   },
   "file_extension": ".py",
   "mimetype": "text/x-python",
   "name": "python",
   "nbconvert_exporter": "python",
   "pygments_lexer": "ipython3",
   "version": "3.9.7"
  }
 },
 "nbformat": 4,
 "nbformat_minor": 5
}
